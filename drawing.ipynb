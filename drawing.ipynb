{
 "cells": [
  {
   "cell_type": "code",
   "execution_count": 1,
   "id": "712a7c98",
   "metadata": {},
   "outputs": [],
   "source": [
    "import pygame\n",
    "from pygame.draw import *\n",
    "\n",
    "pygame.init()\n",
    "\n",
    "FPS = 30\n",
    "screen = pygame.display.set_mode((400, 400))\n",
    "\n",
    "# Здесь мы будем рисовать\n",
    "\n",
    "pygame.display.update()\n",
    "clock = pygame.time.Clock()\n",
    "finished = False\n",
    "\n",
    "while not finished:\n",
    "    clock.tick(FPS)\n",
    "    for event in pygame.event.get():\n",
    "        if event.type == pygame.QUIT:\n",
    "            finished = True\n",
    "\n",
    "pygame.quit()\n",
    "        "
   ]
  },
  {
   "cell_type": "code",
   "execution_count": 11,
   "id": "73d07c13",
   "metadata": {},
   "outputs": [
    {
     "ename": "NameError",
     "evalue": "name 'Fasle' is not defined",
     "output_type": "error",
     "traceback": [
      "\u001b[0;31m---------------------------------------------------------------------------\u001b[0m",
      "\u001b[0;31mNameError\u001b[0m                                 Traceback (most recent call last)",
      "\u001b[0;32m/tmp/ipykernel_5496/2589079628.py\u001b[0m in \u001b[0;36m<module>\u001b[0;34m\u001b[0m\n\u001b[1;32m     84\u001b[0m \u001b[0mpygame\u001b[0m\u001b[0;34m.\u001b[0m\u001b[0mdisplay\u001b[0m\u001b[0;34m.\u001b[0m\u001b[0mupdate\u001b[0m\u001b[0;34m(\u001b[0m\u001b[0;34m)\u001b[0m\u001b[0;34m\u001b[0m\u001b[0;34m\u001b[0m\u001b[0m\n\u001b[1;32m     85\u001b[0m \u001b[0mclock\u001b[0m\u001b[0;34m=\u001b[0m\u001b[0mpygame\u001b[0m\u001b[0;34m.\u001b[0m\u001b[0mtime\u001b[0m\u001b[0;34m.\u001b[0m\u001b[0mClock\u001b[0m\u001b[0;34m(\u001b[0m\u001b[0;34m)\u001b[0m\u001b[0;34m\u001b[0m\u001b[0;34m\u001b[0m\u001b[0m\n\u001b[0;32m---> 86\u001b[0;31m \u001b[0mfinished\u001b[0m \u001b[0;34m=\u001b[0m \u001b[0mFasle\u001b[0m\u001b[0;34m\u001b[0m\u001b[0;34m\u001b[0m\u001b[0m\n\u001b[0m\u001b[1;32m     87\u001b[0m \u001b[0;34m\u001b[0m\u001b[0m\n\u001b[1;32m     88\u001b[0m \u001b[0;32mwhile\u001b[0m \u001b[0;32mnot\u001b[0m \u001b[0mfinished\u001b[0m\u001b[0;34m:\u001b[0m\u001b[0;34m\u001b[0m\u001b[0;34m\u001b[0m\u001b[0m\n",
      "\u001b[0;31mNameError\u001b[0m: name 'Fasle' is not defined"
     ]
    }
   ],
   "source": [
    "import pygame\n",
    "from pygame.draw import *\n",
    "\n",
    "def draw_sun(surface, x, y, width, height, color):\n",
    "    '''\n",
    "    Рисует тело зайца.\n",
    "    surface - объект pygame.Surface\n",
    "    x, y - координаты центра изображения\n",
    "    width, height - ширина и высота изобажения\n",
    "    color - цвет, заданный в формате, подходящем для pygame.Color\n",
    "    '''\n",
    "    ellipse(surface, color, (x - width // 2, y - height // 2, width, height))\n",
    "\n",
    "\n",
    "def draw_oblako(surface, x, y, size, color):\n",
    "    '''\n",
    "    Рисует голову зайца.\n",
    "    surface - объект pygame.Surface\n",
    "    x, y - координаты центра изображения\n",
    "    size - диаметр головы\n",
    "    color - цвет, заданный в формате, подходящем для pygame.Color\n",
    "    '''\n",
    "    circle(surface, color, (x, y), size // 2)\n",
    "\n",
    "\n",
    "def draw_krusha(surface, x, y, width, height, color):\n",
    "    '''\n",
    "    Рисует ухо зайца.\n",
    "    surface - объект pygame.Surface\n",
    "    x, y - координаты центра изображения\n",
    "    width, height - ширина и высота изобажения\n",
    "    color - цвет, заданный в формате, подходящем для pygame.Color\n",
    "    '''\n",
    "    ellipse(surface, color, (x - width // 2, y - height // 2, width, height))\n",
    "\n",
    "\n",
    "def draw_leg(surface, x, y, width, height, color):\n",
    "    '''\n",
    "    Рисует ногу зайца.\n",
    "    surface - объект pygame.Surface\n",
    "    x, y - координаты центра изображения\n",
    "    width, height - ширина и высота изобажения\n",
    "    color - цвет, заданный в формате, подходящем для pygame.Color\n",
    "    '''\n",
    "    ellipse(surface, color, (x - width // 2, y - height // 2, width, height))\n",
    "        \n",
    "def draw_sea(surface, x, y, width, height, color):\n",
    "  \n",
    "    sun_width = width // 1\n",
    "    sun_height = height // 1\n",
    "    sun_y = y + body_height // 1\n",
    "    draw_sun(surface, x, body_y, body_width, body_height, color)\n",
    "\n",
    "    sea_size = height // 4\n",
    "    draw_sea(surface, x, y - head_size // 2, head_size, color)\n",
    "\n",
    "    oblako_height = height // 3\n",
    "    oblako_y = y - height // 2 + oblako_height // 2\n",
    "    for oblako_x in (x - sun_size // 4, x + sun_size // 4):\n",
    "        draw_oblako(surface, oblako_x, oblako_y, width // 8, oblako_height, color)\n",
    "\n",
    "    krusha_height = height // 16\n",
    "    krusha_y = y + height // 2 - leg_height // 2\n",
    "    for krusha_x in (x - width // 4, x + width // 4):\n",
    "        draw_krusha(surface, krusha_x, krusha_y, width // 4, krusha_height, color)\n",
    "#initialisalion\n",
    "w = 400\n",
    "h = 400\n",
    "pygame.init()\n",
    "\n",
    "FPS = 30\n",
    "screen = pygame.display.set_mode((w,h))\n",
    "\n",
    "sun_color = (128,128,128)\n",
    "oblako_color = (128,128,128)\n",
    "krusha_color = (128,128,128)\n",
    "lodka_color = (255,51,102)\n",
    "sea_color = (102,51,255)\n",
    "#....................................\n",
    "\n",
    "# the following is about drawing objects \n",
    "\n",
    "draw_hare(screen, w//2, h//2, w//2, h, hare_color)\n",
    "\n",
    "#....................................\n",
    "\n",
    "pygame.display.update()\n",
    "clock=pygame.time.Clock()\n",
    "finished = Fasle\n",
    "\n",
    "while not finished:\n",
    "    clock.tick(FPS)\n",
    "    for event in pygame.event.get():\n",
    "        if event.type==pygame.QUIT:\n",
    "            finished =True\n",
    "            \n",
    "pygame.quit()            "
   ]
  },
  {
   "cell_type": "code",
   "execution_count": 10,
   "id": "b9c982e2",
   "metadata": {},
   "outputs": [
    {
     "data": {
      "text/plain": [
       "32"
      ]
     },
     "execution_count": 10,
     "metadata": {},
     "output_type": "execute_result"
    }
   ],
   "source": [
    "ord(' ')"
   ]
  },
  {
   "cell_type": "raw",
   "id": "08e2f4ae",
   "metadata": {},
   "source": [
    "ord('\\t')"
   ]
  },
  {
   "cell_type": "code",
   "execution_count": null,
   "id": "a5ebe24e",
   "metadata": {},
   "outputs": [],
   "source": []
  },
  {
   "cell_type": "code",
   "execution_count": null,
   "id": "6be3e533",
   "metadata": {},
   "outputs": [],
   "source": []
  },
  {
   "cell_type": "code",
   "execution_count": null,
   "id": "87a36494",
   "metadata": {},
   "outputs": [],
   "source": []
  }
 ],
 "metadata": {
  "kernelspec": {
   "display_name": "Python 3 (ipykernel)",
   "language": "python",
   "name": "python3"
  },
  "language_info": {
   "codemirror_mode": {
    "name": "ipython",
    "version": 3
   },
   "file_extension": ".py",
   "mimetype": "text/x-python",
   "name": "python",
   "nbconvert_exporter": "python",
   "pygments_lexer": "ipython3",
   "version": "3.8.11"
  }
 },
 "nbformat": 4,
 "nbformat_minor": 5
}
